{
  "cells": [
    {
      "cell_type": "code",
      "execution_count": 1,
      "metadata": {
        "collapsed": false
      },
      "outputs": [],
      "source": [
        "%matplotlib inline"
      ]
    },
    {
      "cell_type": "markdown",
      "metadata": {},
      "source": [
        "\n",
        "# MaD DiGait Pipeline\n",
        "\n",
        "This pipeline showcases the current gait analysis pipeline used by the MaD-Lab with all required steps:\n",
        "Preprocessing -> Stride Segmentation -> Event Detection -> Trajectory Reconstruction -> Parameter Estimation\n",
        "\n",
        "This should serve as a compact example that can be copied and pasted into new projects.\n",
        "For more details on the individual steps have a look at the extended examples and the documentation of the main classes:\n",
        "\n",
        "- `Preprocessing <example_preprocessing>`\n",
        "- `Stride Segmentation (BarthDTW) <example_barth_stride_segmentation>`\n",
        "- `Event Detection (RamppEventDetection) <example_rampp_event_detection>`\n",
        "- `Trajectory Reconstruction (double Integration) <example_preprocessing>`\n",
        "- `Temporal Parameters <example_temporal_parameters>` and `Spatial Parameters <example_spatial_parameters>`\n"
      ]
    },
    {
      "cell_type": "code",
      "execution_count": 2,
      "metadata": {},
      "outputs": [
        {
          "name": "stdout",
          "output_type": "stream",
          "text": [
            "Requirement already satisfied: gaitmap in c:\\users\\sanju\\appdata\\local\\packages\\pythonsoftwarefoundation.python.3.10_qbz5n2kfra8p0\\localcache\\local-packages\\python310\\site-packages (2.4.0)\n",
            "Requirement already satisfied: joblib>=1.2.0 in c:\\users\\sanju\\appdata\\local\\packages\\pythonsoftwarefoundation.python.3.10_qbz5n2kfra8p0\\localcache\\local-packages\\python310\\site-packages (from gaitmap) (1.4.0)\n",
            "Requirement already satisfied: numba>=0.55 in c:\\users\\sanju\\appdata\\local\\packages\\pythonsoftwarefoundation.python.3.10_qbz5n2kfra8p0\\localcache\\local-packages\\python310\\site-packages (from gaitmap) (0.59.0)\n",
            "Requirement already satisfied: numpy>=1.20 in c:\\users\\sanju\\appdata\\local\\packages\\pythonsoftwarefoundation.python.3.10_qbz5n2kfra8p0\\localcache\\local-packages\\python310\\site-packages (from gaitmap) (1.24.3)\n",
            "Requirement already satisfied: pandas>=2 in c:\\users\\sanju\\appdata\\local\\packages\\pythonsoftwarefoundation.python.3.10_qbz5n2kfra8p0\\localcache\\local-packages\\python310\\site-packages (from gaitmap) (2.1.2)\n",
            "Requirement already satisfied: pooch<2.0.0,>=1.7.0 in c:\\users\\sanju\\appdata\\local\\packages\\pythonsoftwarefoundation.python.3.10_qbz5n2kfra8p0\\localcache\\local-packages\\python310\\site-packages (from gaitmap) (1.8.1)\n",
            "Requirement already satisfied: scikit-learn>=1.0.1 in c:\\users\\sanju\\appdata\\local\\packages\\pythonsoftwarefoundation.python.3.10_qbz5n2kfra8p0\\localcache\\local-packages\\python310\\site-packages (from gaitmap) (1.3.2)\n",
            "Requirement already satisfied: scipy>=1.6.1 in c:\\users\\sanju\\appdata\\local\\packages\\pythonsoftwarefoundation.python.3.10_qbz5n2kfra8p0\\localcache\\local-packages\\python310\\site-packages (from gaitmap) (1.10.1)\n",
            "Requirement already satisfied: tpcp<0.33.0,>=0.32.0 in c:\\users\\sanju\\appdata\\local\\packages\\pythonsoftwarefoundation.python.3.10_qbz5n2kfra8p0\\localcache\\local-packages\\python310\\site-packages (from gaitmap) (0.32.0)\n",
            "Requirement already satisfied: typing_extensions>=4.1.1 in c:\\users\\sanju\\appdata\\local\\packages\\pythonsoftwarefoundation.python.3.10_qbz5n2kfra8p0\\localcache\\local-packages\\python310\\site-packages (from gaitmap) (4.10.0)\n",
            "Requirement already satisfied: llvmlite<0.43,>=0.42.0dev0 in c:\\users\\sanju\\appdata\\local\\packages\\pythonsoftwarefoundation.python.3.10_qbz5n2kfra8p0\\localcache\\local-packages\\python310\\site-packages (from numba>=0.55->gaitmap) (0.42.0)\n",
            "Requirement already satisfied: python-dateutil>=2.8.2 in c:\\users\\sanju\\appdata\\local\\packages\\pythonsoftwarefoundation.python.3.10_qbz5n2kfra8p0\\localcache\\local-packages\\python310\\site-packages (from pandas>=2->gaitmap) (2.8.2)\n",
            "Requirement already satisfied: pytz>=2020.1 in c:\\users\\sanju\\appdata\\local\\packages\\pythonsoftwarefoundation.python.3.10_qbz5n2kfra8p0\\localcache\\local-packages\\python310\\site-packages (from pandas>=2->gaitmap) (2022.2.1)\n",
            "Requirement already satisfied: tzdata>=2022.1 in c:\\users\\sanju\\appdata\\local\\packages\\pythonsoftwarefoundation.python.3.10_qbz5n2kfra8p0\\localcache\\local-packages\\python310\\site-packages (from pandas>=2->gaitmap) (2022.2)\n",
            "Requirement already satisfied: platformdirs>=2.5.0 in c:\\users\\sanju\\appdata\\local\\packages\\pythonsoftwarefoundation.python.3.10_qbz5n2kfra8p0\\localcache\\local-packages\\python310\\site-packages (from pooch<2.0.0,>=1.7.0->gaitmap) (4.2.1)\n",
            "Requirement already satisfied: packaging>=20.0 in c:\\users\\sanju\\appdata\\local\\packages\\pythonsoftwarefoundation.python.3.10_qbz5n2kfra8p0\\localcache\\local-packages\\python310\\site-packages (from pooch<2.0.0,>=1.7.0->gaitmap) (24.0)\n",
            "Requirement already satisfied: requests>=2.19.0 in c:\\users\\sanju\\appdata\\local\\packages\\pythonsoftwarefoundation.python.3.10_qbz5n2kfra8p0\\localcache\\local-packages\\python310\\site-packages (from pooch<2.0.0,>=1.7.0->gaitmap) (2.28.1)\n",
            "Requirement already satisfied: threadpoolctl>=2.0.0 in c:\\users\\sanju\\appdata\\local\\packages\\pythonsoftwarefoundation.python.3.10_qbz5n2kfra8p0\\localcache\\local-packages\\python310\\site-packages (from scikit-learn>=1.0.1->gaitmap) (3.2.0)\n",
            "Requirement already satisfied: tqdm>=4.62.3 in c:\\users\\sanju\\appdata\\local\\packages\\pythonsoftwarefoundation.python.3.10_qbz5n2kfra8p0\\localcache\\local-packages\\python310\\site-packages (from tpcp<0.33.0,>=0.32.0->gaitmap) (4.65.0)\n",
            "Requirement already satisfied: six>=1.5 in c:\\users\\sanju\\appdata\\local\\packages\\pythonsoftwarefoundation.python.3.10_qbz5n2kfra8p0\\localcache\\local-packages\\python310\\site-packages (from python-dateutil>=2.8.2->pandas>=2->gaitmap) (1.16.0)\n",
            "Requirement already satisfied: charset-normalizer<3,>=2 in c:\\users\\sanju\\appdata\\local\\packages\\pythonsoftwarefoundation.python.3.10_qbz5n2kfra8p0\\localcache\\local-packages\\python310\\site-packages (from requests>=2.19.0->pooch<2.0.0,>=1.7.0->gaitmap) (2.1.0)\n",
            "Requirement already satisfied: idna<4,>=2.5 in c:\\users\\sanju\\appdata\\local\\packages\\pythonsoftwarefoundation.python.3.10_qbz5n2kfra8p0\\localcache\\local-packages\\python310\\site-packages (from requests>=2.19.0->pooch<2.0.0,>=1.7.0->gaitmap) (3.3)\n",
            "Requirement already satisfied: urllib3<1.27,>=1.21.1 in c:\\users\\sanju\\appdata\\local\\packages\\pythonsoftwarefoundation.python.3.10_qbz5n2kfra8p0\\localcache\\local-packages\\python310\\site-packages (from requests>=2.19.0->pooch<2.0.0,>=1.7.0->gaitmap) (1.26.11)\n",
            "Requirement already satisfied: certifi>=2017.4.17 in c:\\users\\sanju\\appdata\\local\\packages\\pythonsoftwarefoundation.python.3.10_qbz5n2kfra8p0\\localcache\\local-packages\\python310\\site-packages (from requests>=2.19.0->pooch<2.0.0,>=1.7.0->gaitmap) (2022.6.15)\n",
            "Requirement already satisfied: colorama in c:\\users\\sanju\\appdata\\local\\packages\\pythonsoftwarefoundation.python.3.10_qbz5n2kfra8p0\\localcache\\local-packages\\python310\\site-packages (from tqdm>=4.62.3->tpcp<0.33.0,>=0.32.0->gaitmap) (0.4.6)\n",
            "Note: you may need to restart the kernel to use updated packages.\n"
          ]
        }
      ],
      "source": [
        "pip install gaitmap"
      ]
    },
    {
      "cell_type": "markdown",
      "metadata": {},
      "source": [
        "## Load example data\n",
        "\n"
      ]
    },
    {
      "cell_type": "code",
      "execution_count": 3,
      "metadata": {
        "collapsed": false
      },
      "outputs": [],
      "source": [
        "import numpy as np\n",
        "import pandas as pd \n",
        "\n",
        "np.random.seed(0)\n",
        "\n",
        "example_dataset = pd.read_csv('10may.csv', index_col=False)\n",
        "sampling_rate_hz = 10\n",
        "\n",
        "from gaitmap.preprocessing import sensor_alignment"
      ]
    },
    {
      "cell_type": "code",
      "execution_count": 4,
      "metadata": {},
      "outputs": [
        {
          "data": {
            "text/plain": [
              "pandas.core.frame.DataFrame"
            ]
          },
          "execution_count": 4,
          "metadata": {},
          "output_type": "execute_result"
        }
      ],
      "source": [
        "type(example_dataset)"
      ]
    },
    {
      "cell_type": "code",
      "execution_count": 5,
      "metadata": {},
      "outputs": [
        {
          "data": {
            "text/html": [
              "<div>\n",
              "<style scoped>\n",
              "    .dataframe tbody tr th:only-of-type {\n",
              "        vertical-align: middle;\n",
              "    }\n",
              "\n",
              "    .dataframe tbody tr th {\n",
              "        vertical-align: top;\n",
              "    }\n",
              "\n",
              "    .dataframe thead th {\n",
              "        text-align: right;\n",
              "    }\n",
              "</style>\n",
              "<table border=\"1\" class=\"dataframe\">\n",
              "  <thead>\n",
              "    <tr style=\"text-align: right;\">\n",
              "      <th></th>\n",
              "      <th>Time</th>\n",
              "      <th>Device name设备名称</th>\n",
              "      <th>Acceleration X(g)</th>\n",
              "      <th>Acceleration Y(g)</th>\n",
              "      <th>Acceleration Z(g)</th>\n",
              "      <th>Angular velocity X(°/s)</th>\n",
              "      <th>Angular velocity Y(°/s)</th>\n",
              "      <th>Angular velocity Z(°/s)</th>\n",
              "      <th>Angle X(°)</th>\n",
              "      <th>Angle Y(°)</th>\n",
              "      <th>Angle Z(°)</th>\n",
              "      <th>Magnetic field X(ʯt)</th>\n",
              "      <th>Magnetic field Y(ʯt)</th>\n",
              "      <th>Magnetic field Z(ʯt)</th>\n",
              "      <th>Temperature(℃)</th>\n",
              "      <th>Quaternions 0()</th>\n",
              "      <th>Quaternions 1()</th>\n",
              "      <th>Quaternions 2()</th>\n",
              "      <th>Quaternions 3()</th>\n",
              "    </tr>\n",
              "  </thead>\n",
              "  <tbody>\n",
              "    <tr>\n",
              "      <th>0</th>\n",
              "      <td>14:50:07.533</td>\n",
              "      <td>WT901BLE68(d8:09:5a:ca:b6:e0)</td>\n",
              "      <td>0.92</td>\n",
              "      <td>0.898</td>\n",
              "      <td>0.998</td>\n",
              "      <td>0.366</td>\n",
              "      <td>-1.343</td>\n",
              "      <td>-1.526</td>\n",
              "      <td>121.646</td>\n",
              "      <td>-9.932</td>\n",
              "      <td>-90.483</td>\n",
              "      <td>-55.762</td>\n",
              "      <td>39.69</td>\n",
              "      <td>45.178</td>\n",
              "      <td>30.14</td>\n",
              "      <td>0.70258</td>\n",
              "      <td>0.07791</td>\n",
              "      <td>-0.41113</td>\n",
              "      <td>-0.57547</td>\n",
              "    </tr>\n",
              "  </tbody>\n",
              "</table>\n",
              "</div>"
            ],
            "text/plain": [
              "            Time                Device name设备名称  Acceleration X(g)  \\\n",
              "0   14:50:07.533  WT901BLE68(d8:09:5a:ca:b6:e0)               0.92   \n",
              "\n",
              "   Acceleration Y(g)  Acceleration Z(g)  Angular velocity X(°/s)  \\\n",
              "0              0.898              0.998                    0.366   \n",
              "\n",
              "   Angular velocity Y(°/s)  Angular velocity Z(°/s)  Angle X(°)  Angle Y(°)  \\\n",
              "0                   -1.343                   -1.526     121.646      -9.932   \n",
              "\n",
              "   Angle Z(°)  Magnetic field X(ʯt)  Magnetic field Y(ʯt)  \\\n",
              "0     -90.483               -55.762                 39.69   \n",
              "\n",
              "   Magnetic field Z(ʯt)  Temperature(℃)  Quaternions 0()  Quaternions 1()  \\\n",
              "0                45.178           30.14          0.70258          0.07791   \n",
              "\n",
              "   Quaternions 2()  Quaternions 3()  \n",
              "0         -0.41113         -0.57547  "
            ]
          },
          "execution_count": 5,
          "metadata": {},
          "output_type": "execute_result"
        }
      ],
      "source": [
        "example_dataset.head(1)"
      ]
    },
    {
      "cell_type": "code",
      "execution_count": 6,
      "metadata": {},
      "outputs": [
        {
          "data": {
            "text/html": [
              "<div>\n",
              "<style scoped>\n",
              "    .dataframe tbody tr th:only-of-type {\n",
              "        vertical-align: middle;\n",
              "    }\n",
              "\n",
              "    .dataframe tbody tr th {\n",
              "        vertical-align: top;\n",
              "    }\n",
              "\n",
              "    .dataframe thead th {\n",
              "        text-align: right;\n",
              "    }\n",
              "</style>\n",
              "<table border=\"1\" class=\"dataframe\">\n",
              "  <thead>\n",
              "    <tr style=\"text-align: right;\">\n",
              "      <th></th>\n",
              "      <th>Time</th>\n",
              "      <th>Device name</th>\n",
              "      <th>acc_x</th>\n",
              "      <th>acc_y</th>\n",
              "      <th>acc_z</th>\n",
              "      <th>gyr_x</th>\n",
              "      <th>gyr_y</th>\n",
              "      <th>gyr_z</th>\n",
              "      <th>Angle X(°)</th>\n",
              "      <th>Angle Y(°)</th>\n",
              "      <th>Angle Z(°)</th>\n",
              "      <th>Magnetic field X(ʯt)</th>\n",
              "      <th>Magnetic field Y(ʯt)</th>\n",
              "      <th>Magnetic field Z(ʯt)</th>\n",
              "      <th>Temperature(℃)</th>\n",
              "      <th>Quaternions 0()</th>\n",
              "      <th>Quaternions 1()</th>\n",
              "      <th>Quaternions 2()</th>\n",
              "      <th>Quaternions 3()</th>\n",
              "    </tr>\n",
              "  </thead>\n",
              "  <tbody>\n",
              "    <tr>\n",
              "      <th>0</th>\n",
              "      <td>14:50:07.533</td>\n",
              "      <td>WT901BLE68(d8:09:5a:ca:b6:e0)</td>\n",
              "      <td>0.920</td>\n",
              "      <td>0.898</td>\n",
              "      <td>0.998</td>\n",
              "      <td>0.366</td>\n",
              "      <td>-1.343</td>\n",
              "      <td>-1.526</td>\n",
              "      <td>121.646</td>\n",
              "      <td>-9.932</td>\n",
              "      <td>-90.483</td>\n",
              "      <td>-55.762</td>\n",
              "      <td>39.690</td>\n",
              "      <td>45.178</td>\n",
              "      <td>30.14</td>\n",
              "      <td>0.70258</td>\n",
              "      <td>0.07791</td>\n",
              "      <td>-0.41113</td>\n",
              "      <td>-0.57547</td>\n",
              "    </tr>\n",
              "    <tr>\n",
              "      <th>1</th>\n",
              "      <td>14:50:07.535</td>\n",
              "      <td>WT901BLE68(cc:c4:7a:a1:fe:ea)</td>\n",
              "      <td>0.979</td>\n",
              "      <td>-0.101</td>\n",
              "      <td>0.146</td>\n",
              "      <td>0.000</td>\n",
              "      <td>0.977</td>\n",
              "      <td>0.244</td>\n",
              "      <td>-35.090</td>\n",
              "      <td>-79.937</td>\n",
              "      <td>-142.844</td>\n",
              "      <td>-13.132</td>\n",
              "      <td>-37.828</td>\n",
              "      <td>0.294</td>\n",
              "      <td>31.38</td>\n",
              "      <td>-0.05573</td>\n",
              "      <td>0.66525</td>\n",
              "      <td>-0.02762</td>\n",
              "      <td>0.74396</td>\n",
              "    </tr>\n",
              "    <tr>\n",
              "      <th>2</th>\n",
              "      <td>14:50:07.537</td>\n",
              "      <td>WT901BLE68(d8:09:5a:ca:b6:e0)</td>\n",
              "      <td>0.918</td>\n",
              "      <td>0.906</td>\n",
              "      <td>0.995</td>\n",
              "      <td>1.587</td>\n",
              "      <td>-0.305</td>\n",
              "      <td>-2.258</td>\n",
              "      <td>121.855</td>\n",
              "      <td>-10.107</td>\n",
              "      <td>-90.703</td>\n",
              "      <td>-55.762</td>\n",
              "      <td>39.690</td>\n",
              "      <td>45.178</td>\n",
              "      <td>30.14</td>\n",
              "      <td>0.70258</td>\n",
              "      <td>0.07791</td>\n",
              "      <td>-0.41113</td>\n",
              "      <td>-0.57547</td>\n",
              "    </tr>\n",
              "    <tr>\n",
              "      <th>3</th>\n",
              "      <td>14:50:07.544</td>\n",
              "      <td>WT901BLE68(d8:09:5a:ca:b6:e0)</td>\n",
              "      <td>0.922</td>\n",
              "      <td>0.908</td>\n",
              "      <td>0.995</td>\n",
              "      <td>1.831</td>\n",
              "      <td>-0.061</td>\n",
              "      <td>-3.479</td>\n",
              "      <td>122.151</td>\n",
              "      <td>-10.135</td>\n",
              "      <td>-90.945</td>\n",
              "      <td>-55.762</td>\n",
              "      <td>39.690</td>\n",
              "      <td>45.178</td>\n",
              "      <td>30.14</td>\n",
              "      <td>0.70258</td>\n",
              "      <td>0.07791</td>\n",
              "      <td>-0.41113</td>\n",
              "      <td>-0.57547</td>\n",
              "    </tr>\n",
              "    <tr>\n",
              "      <th>4</th>\n",
              "      <td>14:50:07.548</td>\n",
              "      <td>WT901BLE68(d8:09:5a:ca:b6:e0)</td>\n",
              "      <td>0.922</td>\n",
              "      <td>0.911</td>\n",
              "      <td>0.999</td>\n",
              "      <td>-2.991</td>\n",
              "      <td>-0.610</td>\n",
              "      <td>-4.089</td>\n",
              "      <td>122.371</td>\n",
              "      <td>-10.091</td>\n",
              "      <td>-91.214</td>\n",
              "      <td>-55.762</td>\n",
              "      <td>39.690</td>\n",
              "      <td>45.178</td>\n",
              "      <td>30.14</td>\n",
              "      <td>0.70258</td>\n",
              "      <td>0.07791</td>\n",
              "      <td>-0.41113</td>\n",
              "      <td>-0.57547</td>\n",
              "    </tr>\n",
              "  </tbody>\n",
              "</table>\n",
              "</div>"
            ],
            "text/plain": [
              "            Time                    Device name  acc_x  acc_y  acc_z  gyr_x  \\\n",
              "0   14:50:07.533  WT901BLE68(d8:09:5a:ca:b6:e0)  0.920  0.898  0.998  0.366   \n",
              "1   14:50:07.535  WT901BLE68(cc:c4:7a:a1:fe:ea)  0.979 -0.101  0.146  0.000   \n",
              "2   14:50:07.537  WT901BLE68(d8:09:5a:ca:b6:e0)  0.918  0.906  0.995  1.587   \n",
              "3   14:50:07.544  WT901BLE68(d8:09:5a:ca:b6:e0)  0.922  0.908  0.995  1.831   \n",
              "4   14:50:07.548  WT901BLE68(d8:09:5a:ca:b6:e0)  0.922  0.911  0.999 -2.991   \n",
              "\n",
              "   gyr_y  gyr_z  Angle X(°)  Angle Y(°)  Angle Z(°)  Magnetic field X(ʯt)  \\\n",
              "0 -1.343 -1.526     121.646      -9.932     -90.483               -55.762   \n",
              "1  0.977  0.244     -35.090     -79.937    -142.844               -13.132   \n",
              "2 -0.305 -2.258     121.855     -10.107     -90.703               -55.762   \n",
              "3 -0.061 -3.479     122.151     -10.135     -90.945               -55.762   \n",
              "4 -0.610 -4.089     122.371     -10.091     -91.214               -55.762   \n",
              "\n",
              "   Magnetic field Y(ʯt)  Magnetic field Z(ʯt)  Temperature(℃)  \\\n",
              "0                39.690                45.178           30.14   \n",
              "1               -37.828                 0.294           31.38   \n",
              "2                39.690                45.178           30.14   \n",
              "3                39.690                45.178           30.14   \n",
              "4                39.690                45.178           30.14   \n",
              "\n",
              "   Quaternions 0()  Quaternions 1()  Quaternions 2()  Quaternions 3()  \n",
              "0          0.70258          0.07791         -0.41113         -0.57547  \n",
              "1         -0.05573          0.66525         -0.02762          0.74396  \n",
              "2          0.70258          0.07791         -0.41113         -0.57547  \n",
              "3          0.70258          0.07791         -0.41113         -0.57547  \n",
              "4          0.70258          0.07791         -0.41113         -0.57547  "
            ]
          },
          "execution_count": 6,
          "metadata": {},
          "output_type": "execute_result"
        }
      ],
      "source": [
        "renamed = {'Device name设备名称':'Device name','Acceleration X(g)':'acc_x','Acceleration Y(g)':'acc_y','Acceleration Z(g)':'acc_z',\n",
        "'Angular velocity X(°/s)':'gyr_x','Angular velocity Y(°/s)':'gyr_y','Angular velocity Z(°/s)':'gyr_z'}\n",
        "\n",
        "example_dataset = example_dataset.rename(columns=renamed)\n",
        "example_dataset.head()"
      ]
    },
    {
      "cell_type": "code",
      "execution_count": 7,
      "metadata": {},
      "outputs": [
        {
          "data": {
            "text/html": [
              "<div>\n",
              "<style scoped>\n",
              "    .dataframe tbody tr th:only-of-type {\n",
              "        vertical-align: middle;\n",
              "    }\n",
              "\n",
              "    .dataframe tbody tr th {\n",
              "        vertical-align: top;\n",
              "    }\n",
              "\n",
              "    .dataframe thead th {\n",
              "        text-align: right;\n",
              "    }\n",
              "</style>\n",
              "<table border=\"1\" class=\"dataframe\">\n",
              "  <thead>\n",
              "    <tr style=\"text-align: right;\">\n",
              "      <th></th>\n",
              "      <th>Time</th>\n",
              "      <th>Device name</th>\n",
              "      <th>acc_x</th>\n",
              "      <th>acc_y</th>\n",
              "      <th>acc_z</th>\n",
              "      <th>gyr_x</th>\n",
              "      <th>gyr_y</th>\n",
              "      <th>gyr_z</th>\n",
              "    </tr>\n",
              "  </thead>\n",
              "  <tbody>\n",
              "    <tr>\n",
              "      <th>0</th>\n",
              "      <td>14:50:07.533</td>\n",
              "      <td>WT901BLE68(d8:09:5a:ca:b6:e0)</td>\n",
              "      <td>0.920</td>\n",
              "      <td>0.898</td>\n",
              "      <td>0.998</td>\n",
              "      <td>0.366</td>\n",
              "      <td>-1.343</td>\n",
              "      <td>-1.526</td>\n",
              "    </tr>\n",
              "    <tr>\n",
              "      <th>1</th>\n",
              "      <td>14:50:07.535</td>\n",
              "      <td>WT901BLE68(cc:c4:7a:a1:fe:ea)</td>\n",
              "      <td>0.979</td>\n",
              "      <td>-0.101</td>\n",
              "      <td>0.146</td>\n",
              "      <td>0.000</td>\n",
              "      <td>0.977</td>\n",
              "      <td>0.244</td>\n",
              "    </tr>\n",
              "    <tr>\n",
              "      <th>2</th>\n",
              "      <td>14:50:07.537</td>\n",
              "      <td>WT901BLE68(d8:09:5a:ca:b6:e0)</td>\n",
              "      <td>0.918</td>\n",
              "      <td>0.906</td>\n",
              "      <td>0.995</td>\n",
              "      <td>1.587</td>\n",
              "      <td>-0.305</td>\n",
              "      <td>-2.258</td>\n",
              "    </tr>\n",
              "    <tr>\n",
              "      <th>3</th>\n",
              "      <td>14:50:07.544</td>\n",
              "      <td>WT901BLE68(d8:09:5a:ca:b6:e0)</td>\n",
              "      <td>0.922</td>\n",
              "      <td>0.908</td>\n",
              "      <td>0.995</td>\n",
              "      <td>1.831</td>\n",
              "      <td>-0.061</td>\n",
              "      <td>-3.479</td>\n",
              "    </tr>\n",
              "    <tr>\n",
              "      <th>4</th>\n",
              "      <td>14:50:07.548</td>\n",
              "      <td>WT901BLE68(d8:09:5a:ca:b6:e0)</td>\n",
              "      <td>0.922</td>\n",
              "      <td>0.911</td>\n",
              "      <td>0.999</td>\n",
              "      <td>-2.991</td>\n",
              "      <td>-0.610</td>\n",
              "      <td>-4.089</td>\n",
              "    </tr>\n",
              "    <tr>\n",
              "      <th>...</th>\n",
              "      <td>...</td>\n",
              "      <td>...</td>\n",
              "      <td>...</td>\n",
              "      <td>...</td>\n",
              "      <td>...</td>\n",
              "      <td>...</td>\n",
              "      <td>...</td>\n",
              "      <td>...</td>\n",
              "    </tr>\n",
              "    <tr>\n",
              "      <th>235</th>\n",
              "      <td>14:50:19.112</td>\n",
              "      <td>WT901BLE68(cc:c4:7a:a1:fe:ea)</td>\n",
              "      <td>0.967</td>\n",
              "      <td>-0.112</td>\n",
              "      <td>0.143</td>\n",
              "      <td>-0.305</td>\n",
              "      <td>-3.601</td>\n",
              "      <td>2.197</td>\n",
              "    </tr>\n",
              "    <tr>\n",
              "      <th>236</th>\n",
              "      <td>14:50:19.202</td>\n",
              "      <td>WT901BLE68(cc:c4:7a:a1:fe:ea)</td>\n",
              "      <td>0.986</td>\n",
              "      <td>-0.097</td>\n",
              "      <td>0.163</td>\n",
              "      <td>0.244</td>\n",
              "      <td>-2.258</td>\n",
              "      <td>1.404</td>\n",
              "    </tr>\n",
              "    <tr>\n",
              "      <th>237</th>\n",
              "      <td>14:50:19.322</td>\n",
              "      <td>WT901BLE68(cc:c4:7a:a1:fe:ea)</td>\n",
              "      <td>0.992</td>\n",
              "      <td>-0.115</td>\n",
              "      <td>0.119</td>\n",
              "      <td>0.854</td>\n",
              "      <td>-0.061</td>\n",
              "      <td>-0.305</td>\n",
              "    </tr>\n",
              "    <tr>\n",
              "      <th>238</th>\n",
              "      <td>14:50:19.411</td>\n",
              "      <td>WT901BLE68(cc:c4:7a:a1:fe:ea)</td>\n",
              "      <td>0.971</td>\n",
              "      <td>-0.115</td>\n",
              "      <td>0.116</td>\n",
              "      <td>0.061</td>\n",
              "      <td>12.024</td>\n",
              "      <td>-4.089</td>\n",
              "    </tr>\n",
              "    <tr>\n",
              "      <th>239</th>\n",
              "      <td>14:50:19.532</td>\n",
              "      <td>WT901BLE68(cc:c4:7a:a1:fe:ea)</td>\n",
              "      <td>0.976</td>\n",
              "      <td>-0.101</td>\n",
              "      <td>0.179</td>\n",
              "      <td>-4.333</td>\n",
              "      <td>5.981</td>\n",
              "      <td>0.610</td>\n",
              "    </tr>\n",
              "  </tbody>\n",
              "</table>\n",
              "<p>240 rows × 8 columns</p>\n",
              "</div>"
            ],
            "text/plain": [
              "              Time                    Device name  acc_x  acc_y  acc_z  gyr_x  \\\n",
              "0     14:50:07.533  WT901BLE68(d8:09:5a:ca:b6:e0)  0.920  0.898  0.998  0.366   \n",
              "1     14:50:07.535  WT901BLE68(cc:c4:7a:a1:fe:ea)  0.979 -0.101  0.146  0.000   \n",
              "2     14:50:07.537  WT901BLE68(d8:09:5a:ca:b6:e0)  0.918  0.906  0.995  1.587   \n",
              "3     14:50:07.544  WT901BLE68(d8:09:5a:ca:b6:e0)  0.922  0.908  0.995  1.831   \n",
              "4     14:50:07.548  WT901BLE68(d8:09:5a:ca:b6:e0)  0.922  0.911  0.999 -2.991   \n",
              "..             ...                            ...    ...    ...    ...    ...   \n",
              "235   14:50:19.112  WT901BLE68(cc:c4:7a:a1:fe:ea)  0.967 -0.112  0.143 -0.305   \n",
              "236   14:50:19.202  WT901BLE68(cc:c4:7a:a1:fe:ea)  0.986 -0.097  0.163  0.244   \n",
              "237   14:50:19.322  WT901BLE68(cc:c4:7a:a1:fe:ea)  0.992 -0.115  0.119  0.854   \n",
              "238   14:50:19.411  WT901BLE68(cc:c4:7a:a1:fe:ea)  0.971 -0.115  0.116  0.061   \n",
              "239   14:50:19.532  WT901BLE68(cc:c4:7a:a1:fe:ea)  0.976 -0.101  0.179 -4.333   \n",
              "\n",
              "      gyr_y  gyr_z  \n",
              "0    -1.343 -1.526  \n",
              "1     0.977  0.244  \n",
              "2    -0.305 -2.258  \n",
              "3    -0.061 -3.479  \n",
              "4    -0.610 -4.089  \n",
              "..      ...    ...  \n",
              "235  -3.601  2.197  \n",
              "236  -2.258  1.404  \n",
              "237  -0.061 -0.305  \n",
              "238  12.024 -4.089  \n",
              "239   5.981  0.610  \n",
              "\n",
              "[240 rows x 8 columns]"
            ]
          },
          "execution_count": 7,
          "metadata": {},
          "output_type": "execute_result"
        }
      ],
      "source": [
        "example_dataset.drop(['Angle X(°)','Angle Y(°)','Angle Z(°)','Magnetic field X(ʯt)','Magnetic field Y(ʯt)','Magnetic field Z(ʯt)','Temperature(℃)','Quaternions 0()','Quaternions 1()','Quaternions 2()','Quaternions 3()'],axis=1,inplace=True)\n",
        "example_dataset"
      ]
    },
    {
      "cell_type": "code",
      "execution_count": 8,
      "metadata": {},
      "outputs": [
        {
          "data": {
            "text/plain": [
              "Index(['Time', 'Device name', 'acc_x', 'acc_y', 'acc_z', 'gyr_x', 'gyr_y',\n",
              "       'gyr_z'],\n",
              "      dtype='object')"
            ]
          },
          "execution_count": 8,
          "metadata": {},
          "output_type": "execute_result"
        }
      ],
      "source": [
        "example_dataset.columns"
      ]
    },
    {
      "cell_type": "code",
      "execution_count": 9,
      "metadata": {},
      "outputs": [
        {
          "data": {
            "text/plain": [
              "{'WT901BLE68(d8:09:5a:ca:b6:e0)':               Time  acc_x  acc_y  acc_z  gyr_x  gyr_y  gyr_z\n",
              " 0     14:50:07.533  0.920  0.898  0.998  0.366 -1.343 -1.526\n",
              " 1     14:50:07.537  0.918  0.906  0.995  1.587 -0.305 -2.258\n",
              " 2     14:50:07.544  0.922  0.908  0.995  1.831 -0.061 -3.479\n",
              " 3     14:50:07.548  0.922  0.911  0.999 -2.991 -0.610 -4.089\n",
              " 4     14:50:07.556  0.921  0.921  0.997  0.305  0.366 -1.648\n",
              " ..             ...    ...    ...    ...    ...    ...    ...\n",
              " 115   14:50:18.629  0.850  0.855  0.734  7.080  5.737  2.869\n",
              " 116   14:50:18.751  0.854  0.860  0.745  8.728  3.906  9.460\n",
              " 117   14:50:18.843  0.876  0.815  0.747  4.639  4.822  0.427\n",
              " 118   14:50:18.959  0.882  0.843  0.754  0.366  3.723 -2.625\n",
              " 119   14:50:19.051  0.871  0.847  0.759 -1.221  1.099 -0.305\n",
              " \n",
              " [120 rows x 7 columns],\n",
              " 'WT901BLE68(cc:c4:7a:a1:fe:ea)':               Time  acc_x  acc_y  acc_z  gyr_x   gyr_y  gyr_z\n",
              " 0     14:50:07.535  0.979 -0.101  0.146  0.000   0.977  0.244\n",
              " 1     14:50:07.652  0.981 -0.100  0.145  0.000   0.916 -1.221\n",
              " 2     14:50:07.741  0.976 -0.093  0.147 -0.671   1.465 -2.258\n",
              " 3     14:50:07.863  0.978 -0.093  0.155  0.000   1.404  2.441\n",
              " 4     14:50:07.921  0.975 -0.100  0.150 -0.061   0.366  0.244\n",
              " ..             ...    ...    ...    ...    ...     ...    ...\n",
              " 115   14:50:19.112  0.967 -0.112  0.143 -0.305  -3.601  2.197\n",
              " 116   14:50:19.202  0.986 -0.097  0.163  0.244  -2.258  1.404\n",
              " 117   14:50:19.322  0.992 -0.115  0.119  0.854  -0.061 -0.305\n",
              " 118   14:50:19.411  0.971 -0.115  0.116  0.061  12.024 -4.089\n",
              " 119   14:50:19.532  0.976 -0.101  0.179 -4.333   5.981  0.610\n",
              " \n",
              " [120 rows x 7 columns]}"
            ]
          },
          "execution_count": 9,
          "metadata": {},
          "output_type": "execute_result"
        }
      ],
      "source": [
        "# Function to convert DataFrame to dictionary of DataFrames\n",
        "def df_to_dict_of_dfs(df):\n",
        "    device_names = df['Device name'].unique()\n",
        "    dfs_dict = {}\n",
        "\n",
        "    for device_name in device_names:\n",
        "        device_df = df[df['Device name'] == device_name].copy()\n",
        "        device_df.drop(columns='Device name', inplace=True)\n",
        "        dfs_dict[device_name] = device_df.reset_index(drop=True)\n",
        "    \n",
        "    return dfs_dict\n",
        "\n",
        "# Convert DataFrame to dictionary of DataFrames\n",
        "dfs_dict = df_to_dict_of_dfs(example_dataset)\n",
        "dfs_dict"
      ]
    },
    {
      "cell_type": "code",
      "execution_count": 10,
      "metadata": {},
      "outputs": [
        {
          "name": "stdout",
          "output_type": "stream",
          "text": [
            "Device Name: WT901BLE68(d8:09:5a:ca:b6:e0)\n",
            "              Time  acc_x  acc_y  acc_z  gyr_x  gyr_y  gyr_z\n",
            "0     14:50:07.533  0.920  0.898  0.998  0.366 -1.343 -1.526\n",
            "1     14:50:07.537  0.918  0.906  0.995  1.587 -0.305 -2.258\n",
            "2     14:50:07.544  0.922  0.908  0.995  1.831 -0.061 -3.479\n",
            "3     14:50:07.548  0.922  0.911  0.999 -2.991 -0.610 -4.089\n",
            "4     14:50:07.556  0.921  0.921  0.997  0.305  0.366 -1.648\n",
            "..             ...    ...    ...    ...    ...    ...    ...\n",
            "115   14:50:18.629  0.850  0.855  0.734  7.080  5.737  2.869\n",
            "116   14:50:18.751  0.854  0.860  0.745  8.728  3.906  9.460\n",
            "117   14:50:18.843  0.876  0.815  0.747  4.639  4.822  0.427\n",
            "118   14:50:18.959  0.882  0.843  0.754  0.366  3.723 -2.625\n",
            "119   14:50:19.051  0.871  0.847  0.759 -1.221  1.099 -0.305\n",
            "\n",
            "[120 rows x 7 columns]\n",
            "\n",
            "Device Name: WT901BLE68(cc:c4:7a:a1:fe:ea)\n",
            "              Time  acc_x  acc_y  acc_z  gyr_x   gyr_y  gyr_z\n",
            "0     14:50:07.535  0.979 -0.101  0.146  0.000   0.977  0.244\n",
            "1     14:50:07.652  0.981 -0.100  0.145  0.000   0.916 -1.221\n",
            "2     14:50:07.741  0.976 -0.093  0.147 -0.671   1.465 -2.258\n",
            "3     14:50:07.863  0.978 -0.093  0.155  0.000   1.404  2.441\n",
            "4     14:50:07.921  0.975 -0.100  0.150 -0.061   0.366  0.244\n",
            "..             ...    ...    ...    ...    ...     ...    ...\n",
            "115   14:50:19.112  0.967 -0.112  0.143 -0.305  -3.601  2.197\n",
            "116   14:50:19.202  0.986 -0.097  0.163  0.244  -2.258  1.404\n",
            "117   14:50:19.322  0.992 -0.115  0.119  0.854  -0.061 -0.305\n",
            "118   14:50:19.411  0.971 -0.115  0.116  0.061  12.024 -4.089\n",
            "119   14:50:19.532  0.976 -0.101  0.179 -4.333   5.981  0.610\n",
            "\n",
            "[120 rows x 7 columns]\n",
            "\n"
          ]
        }
      ],
      "source": [
        "\n",
        "# Print the dictionary of DataFrames\n",
        "for device_name, device_df in dfs_dict.items():\n",
        "    print(f\"Device Name: {device_name}\")\n",
        "    print(device_df)\n",
        "    print()"
      ]
    },
    {
      "cell_type": "code",
      "execution_count": 11,
      "metadata": {},
      "outputs": [
        {
          "data": {
            "text/plain": [
              "dict_keys(['WT901BLE68(d8:09:5a:ca:b6:e0)', 'WT901BLE68(cc:c4:7a:a1:fe:ea)'])"
            ]
          },
          "execution_count": 11,
          "metadata": {},
          "output_type": "execute_result"
        }
      ],
      "source": [
        "from gaitmap.utils.datatype_helper import get_multi_sensor_names\n",
        "get_multi_sensor_names(dfs_dict)"
      ]
    },
    {
      "cell_type": "markdown",
      "metadata": {},
      "source": []
    },
    {
      "cell_type": "code",
      "execution_count": 12,
      "metadata": {},
      "outputs": [
        {
          "data": {
            "text/plain": [
              "'multi'"
            ]
          },
          "execution_count": 12,
          "metadata": {},
          "output_type": "execute_result"
        }
      ],
      "source": [
        "from gaitmap.utils.datatype_helper import is_sensor_data\n",
        "\n",
        "is_sensor_data(dfs_dict, frame=\"sensor\")\n"
      ]
    },
    {
      "cell_type": "code",
      "execution_count": 13,
      "metadata": {},
      "outputs": [
        {
          "data": {
            "text/plain": [
              "'single'"
            ]
          },
          "execution_count": 13,
          "metadata": {},
          "output_type": "execute_result"
        }
      ],
      "source": [
        "is_sensor_data(dfs_dict['WT901BLE68(d8:09:5a:ca:b6:e0)'], frame=\"sensor\")"
      ]
    },
    {
      "cell_type": "markdown",
      "metadata": {},
      "source": [
        "## Preprocessing\n",
        "Fix the alignment between the sensor coordinate system and the gaitmap coordinate system.\n",
        "This will be different for each sensor position and recording.\n",
        "\n"
      ]
    },
    {
      "cell_type": "code",
      "execution_count": 14,
      "metadata": {
        "collapsed": false
      },
      "outputs": [
        {
          "data": {
            "text/plain": [
              "{'WT901BLE68(d8:09:5a:ca:b6:e0)':               Time  acc_x  acc_y  acc_z  gyr_x  gyr_y  gyr_z\n",
              " 0     14:50:07.533  0.898  0.998  0.920 -1.343 -1.526  0.366\n",
              " 1     14:50:07.537  0.906  0.995  0.918 -0.305 -2.258  1.587\n",
              " 2     14:50:07.544  0.908  0.995  0.922 -0.061 -3.479  1.831\n",
              " 3     14:50:07.548  0.911  0.999  0.922 -0.610 -4.089 -2.991\n",
              " 4     14:50:07.556  0.921  0.997  0.921  0.366 -1.648  0.305\n",
              " ..             ...    ...    ...    ...    ...    ...    ...\n",
              " 115   14:50:18.629  0.855  0.734  0.850  5.737  2.869  7.080\n",
              " 116   14:50:18.751  0.860  0.745  0.854  3.906  9.460  8.728\n",
              " 117   14:50:18.843  0.815  0.747  0.876  4.822  0.427  4.639\n",
              " 118   14:50:18.959  0.843  0.754  0.882  3.723 -2.625  0.366\n",
              " 119   14:50:19.051  0.847  0.759  0.871  1.099 -0.305 -1.221\n",
              " \n",
              " [120 rows x 7 columns],\n",
              " 'WT901BLE68(cc:c4:7a:a1:fe:ea)':               Time  acc_x  acc_y  acc_z   gyr_x  gyr_y  gyr_z\n",
              " 0     14:50:07.535  0.101 -0.146  0.979  -0.977 -0.244  0.000\n",
              " 1     14:50:07.652  0.100 -0.145  0.981  -0.916  1.221  0.000\n",
              " 2     14:50:07.741  0.093 -0.147  0.976  -1.465  2.258 -0.671\n",
              " 3     14:50:07.863  0.093 -0.155  0.978  -1.404 -2.441  0.000\n",
              " 4     14:50:07.921  0.100 -0.150  0.975  -0.366 -0.244 -0.061\n",
              " ..             ...    ...    ...    ...     ...    ...    ...\n",
              " 115   14:50:19.112  0.112 -0.143  0.967   3.601 -2.197 -0.305\n",
              " 116   14:50:19.202  0.097 -0.163  0.986   2.258 -1.404  0.244\n",
              " 117   14:50:19.322  0.115 -0.119  0.992   0.061  0.305  0.854\n",
              " 118   14:50:19.411  0.115 -0.116  0.971 -12.024  4.089  0.061\n",
              " 119   14:50:19.532  0.101 -0.179  0.976  -5.981 -0.610 -4.333\n",
              " \n",
              " [120 rows x 7 columns]}"
            ]
          },
          "execution_count": 14,
          "metadata": {},
          "output_type": "execute_result"
        }
      ],
      "source": [
        "from scipy.spatial.transform import Rotation\n",
        "\n",
        "# For multiple sensors, we write down the rotation matrices for each sensor into a dict\n",
        "rotation_matrices = {\n",
        "      'WT901BLE68(d8:09:5a:ca:b6:e0)': Rotation.from_matrix(np.array([[ 0, 1,  0], [ 0,  0,  1], [1,  0,  0]])),\n",
        "      'WT901BLE68(cc:c4:7a:a1:fe:ea)': Rotation.from_matrix(np.array([[ 0,  -1,  0], [ 0,  0, -1], [1,  0,  0]]))\n",
        "}\n",
        "from gaitmap.utils.rotations import rotate_dataset\n",
        "\n",
        "# We assume `data` has two sensors with the same names as in the dict above\n",
        "data = rotate_dataset(dfs_dict, rotation_matrices)\n",
        "data"
      ]
    },
    {
      "cell_type": "markdown",
      "metadata": {},
      "source": [
        "## Stride Segmentation\n",
        "In this step the continuous datastream is segmented into individual strides.\n",
        "For longer datasets it might be required to first identify segments of walking to reduce the chance of\n",
        "false-positives.\n",
        "\n"
      ]
    },
    {
      "cell_type": "code",
      "execution_count": 24,
      "metadata": {
        "collapsed": false
      },
      "outputs": [],
      "source": [
        "from gaitmap.stride_segmentation import BarthDtw\n",
        "from gaitmap.utils.coordinate_conversion import convert_to_fbf\n",
        "\n",
        "dtw = BarthDtw(max_cost=2.5)\n",
        "# Convert data to foot-frame\n",
        "bf_data = convert_to_fbf(data, left_like=\"WT901BLE68(d8:09:5a:ca:b6:e0)\", right_like=\"WT901BLE68(cc:c4:7a:a1:fe:ea)\")\n",
        "dtw = dtw.segment(data=bf_data, sampling_rate_hz=sampling_rate_hz)"
      ]
    },
    {
      "cell_type": "code",
      "execution_count": 28,
      "metadata": {},
      "outputs": [
        {
          "data": {
            "text/plain": [
              "{'WT901BLE68(d8:09:5a:ca:b6:e0)':       start  end\n",
              " s_id            \n",
              " 0         0   10\n",
              " 1        37   48\n",
              " 2        62   69\n",
              " 3        76   83\n",
              " 4        94  103\n",
              " 5       103  116,\n",
              " 'WT901BLE68(cc:c4:7a:a1:fe:ea)':       start  end\n",
              " s_id            \n",
              " 0         2   14\n",
              " 1        14   23\n",
              " 2        23   35\n",
              " 3        35   53\n",
              " 4        53   72\n",
              " 5        72   91\n",
              " 6        91   98}"
            ]
          },
          "execution_count": 28,
          "metadata": {},
          "output_type": "execute_result"
        }
      ],
      "source": [
        "segmented_strides = dtw.stride_list_\n",
        "segmented_strides"
      ]
    },
    {
      "cell_type": "code",
      "execution_count": 29,
      "metadata": {},
      "outputs": [
        {
          "data": {
            "text/plain": [
              "{'WT901BLE68(d8:09:5a:ca:b6:e0)': [array([[ 0,  1],\n",
              "         [ 1,  2],\n",
              "         [ 2,  3],\n",
              "         [ 3,  4],\n",
              "         [ 4,  4],\n",
              "         [ 5,  5],\n",
              "         [ 5,  6],\n",
              "         [ 5,  7],\n",
              "         [ 5,  8],\n",
              "         [ 6,  9],\n",
              "         [ 7, 10],\n",
              "         [ 8, 10]]),\n",
              "  array([[ 0, 37],\n",
              "         [ 1, 38],\n",
              "         [ 2, 38],\n",
              "         [ 3, 39],\n",
              "         [ 4, 40],\n",
              "         [ 5, 41],\n",
              "         [ 5, 42],\n",
              "         [ 5, 43],\n",
              "         [ 6, 44],\n",
              "         [ 7, 45],\n",
              "         [ 8, 46]]),\n",
              "  array([[ 0, 62],\n",
              "         [ 1, 63],\n",
              "         [ 2, 64],\n",
              "         [ 3, 64],\n",
              "         [ 4, 65],\n",
              "         [ 5, 66],\n",
              "         [ 6, 67],\n",
              "         [ 7, 68],\n",
              "         [ 8, 69]]),\n",
              "  array([[ 0, 76],\n",
              "         [ 1, 77],\n",
              "         [ 2, 77],\n",
              "         [ 3, 78],\n",
              "         [ 4, 79],\n",
              "         [ 5, 80],\n",
              "         [ 5, 81],\n",
              "         [ 6, 82],\n",
              "         [ 7, 83],\n",
              "         [ 8, 83]]),\n",
              "  array([[  0,  95],\n",
              "         [  1,  96],\n",
              "         [  2,  96],\n",
              "         [  3,  97],\n",
              "         [  4,  98],\n",
              "         [  5,  99],\n",
              "         [  5, 100],\n",
              "         [  5, 101],\n",
              "         [  6, 102],\n",
              "         [  7, 102],\n",
              "         [  8, 102]]),\n",
              "  array([[  0, 103],\n",
              "         [  1, 104],\n",
              "         [  2, 105],\n",
              "         [  3, 106],\n",
              "         [  4, 107],\n",
              "         [  5, 108],\n",
              "         [  5, 109],\n",
              "         [  5, 110],\n",
              "         [  5, 111],\n",
              "         [  5, 112],\n",
              "         [  5, 113],\n",
              "         [  5, 114],\n",
              "         [  5, 115],\n",
              "         [  6, 116],\n",
              "         [  7, 116],\n",
              "         [  8, 116]])],\n",
              " 'WT901BLE68(cc:c4:7a:a1:fe:ea)': [array([[ 0,  2],\n",
              "         [ 1,  3],\n",
              "         [ 2,  3],\n",
              "         [ 3,  4],\n",
              "         [ 4,  5],\n",
              "         [ 5,  6],\n",
              "         [ 5,  7],\n",
              "         [ 5,  8],\n",
              "         [ 5,  9],\n",
              "         [ 5, 10],\n",
              "         [ 6, 11],\n",
              "         [ 6, 12],\n",
              "         [ 6, 13],\n",
              "         [ 7, 14],\n",
              "         [ 8, 14]]),\n",
              "  array([[ 0, 14],\n",
              "         [ 1, 15],\n",
              "         [ 2, 16],\n",
              "         [ 3, 17],\n",
              "         [ 4, 18],\n",
              "         [ 5, 19],\n",
              "         [ 5, 20],\n",
              "         [ 6, 21],\n",
              "         [ 6, 22],\n",
              "         [ 7, 23],\n",
              "         [ 8, 23]]),\n",
              "  array([[ 0, 23],\n",
              "         [ 1, 24],\n",
              "         [ 2, 25],\n",
              "         [ 3, 26],\n",
              "         [ 4, 27],\n",
              "         [ 5, 28],\n",
              "         [ 5, 29],\n",
              "         [ 6, 30],\n",
              "         [ 6, 31],\n",
              "         [ 6, 32],\n",
              "         [ 6, 33],\n",
              "         [ 7, 34],\n",
              "         [ 8, 35]]),\n",
              "  array([[ 0, 35],\n",
              "         [ 1, 36],\n",
              "         [ 1, 37],\n",
              "         [ 1, 38],\n",
              "         [ 2, 39],\n",
              "         [ 3, 40],\n",
              "         [ 3, 41],\n",
              "         [ 4, 42],\n",
              "         [ 4, 43],\n",
              "         [ 4, 44],\n",
              "         [ 5, 45],\n",
              "         [ 6, 46],\n",
              "         [ 6, 47],\n",
              "         [ 6, 48],\n",
              "         [ 6, 49],\n",
              "         [ 6, 50],\n",
              "         [ 6, 51],\n",
              "         [ 7, 52],\n",
              "         [ 8, 53]]),\n",
              "  array([[ 0, 53],\n",
              "         [ 1, 54],\n",
              "         [ 1, 55],\n",
              "         [ 1, 56],\n",
              "         [ 2, 57],\n",
              "         [ 3, 58],\n",
              "         [ 4, 59],\n",
              "         [ 4, 60],\n",
              "         [ 4, 61],\n",
              "         [ 4, 62],\n",
              "         [ 5, 63],\n",
              "         [ 5, 64],\n",
              "         [ 5, 65],\n",
              "         [ 6, 66],\n",
              "         [ 6, 67],\n",
              "         [ 6, 68],\n",
              "         [ 6, 69],\n",
              "         [ 6, 70],\n",
              "         [ 7, 71],\n",
              "         [ 8, 72]]),\n",
              "  array([[ 0, 72],\n",
              "         [ 1, 73],\n",
              "         [ 1, 74],\n",
              "         [ 1, 75],\n",
              "         [ 2, 76],\n",
              "         [ 3, 77],\n",
              "         [ 3, 78],\n",
              "         [ 4, 79],\n",
              "         [ 4, 80],\n",
              "         [ 5, 81],\n",
              "         [ 6, 82],\n",
              "         [ 6, 83],\n",
              "         [ 6, 84],\n",
              "         [ 6, 85],\n",
              "         [ 6, 86],\n",
              "         [ 6, 87],\n",
              "         [ 6, 88],\n",
              "         [ 6, 89],\n",
              "         [ 7, 90],\n",
              "         [ 8, 91]]),\n",
              "  array([[ 0, 91],\n",
              "         [ 1, 92],\n",
              "         [ 1, 93],\n",
              "         [ 2, 94],\n",
              "         [ 3, 95],\n",
              "         [ 4, 96],\n",
              "         [ 5, 97],\n",
              "         [ 6, 98],\n",
              "         [ 7, 98],\n",
              "         [ 8, 98]])]}"
            ]
          },
          "execution_count": 29,
          "metadata": {},
          "output_type": "execute_result"
        }
      ],
      "source": [
        "dtw_warping_path = dtw.paths_\n",
        "dtw_warping_path"
      ]
    },
    {
      "cell_type": "code",
      "execution_count": 30,
      "metadata": {},
      "outputs": [
        {
          "data": {
            "text/plain": [
              "{'WT901BLE68(d8:09:5a:ca:b6:e0)':      acc_pa  acc_ml  acc_si  gyr_pa  gyr_ml  gyr_si\n",
              " 0     0.898   0.998  -0.920   1.343   1.526  -0.366\n",
              " 1     0.906   0.995  -0.918   0.305   2.258  -1.587\n",
              " 2     0.908   0.995  -0.922   0.061   3.479  -1.831\n",
              " 3     0.911   0.999  -0.922   0.610   4.089   2.991\n",
              " 4     0.921   0.997  -0.921  -0.366   1.648  -0.305\n",
              " ..      ...     ...     ...     ...     ...     ...\n",
              " 115   0.855   0.734  -0.850  -5.737  -2.869  -7.080\n",
              " 116   0.860   0.745  -0.854  -3.906  -9.460  -8.728\n",
              " 117   0.815   0.747  -0.876  -4.822  -0.427  -4.639\n",
              " 118   0.843   0.754  -0.882  -3.723   2.625  -0.366\n",
              " 119   0.847   0.759  -0.871  -1.099   0.305   1.221\n",
              " \n",
              " [120 rows x 6 columns],\n",
              " 'WT901BLE68(cc:c4:7a:a1:fe:ea)':      acc_pa  acc_ml  acc_si  gyr_pa  gyr_ml  gyr_si\n",
              " 0     0.101   0.146  -0.979  -0.977   0.244   0.000\n",
              " 1     0.100   0.145  -0.981  -0.916  -1.221   0.000\n",
              " 2     0.093   0.147  -0.976  -1.465  -2.258  -0.671\n",
              " 3     0.093   0.155  -0.978  -1.404   2.441   0.000\n",
              " 4     0.100   0.150  -0.975  -0.366   0.244  -0.061\n",
              " ..      ...     ...     ...     ...     ...     ...\n",
              " 115   0.112   0.143  -0.967   3.601   2.197  -0.305\n",
              " 116   0.097   0.163  -0.986   2.258   1.404   0.244\n",
              " 117   0.115   0.119  -0.992   0.061  -0.305   0.854\n",
              " 118   0.115   0.116  -0.971 -12.024  -4.089   0.061\n",
              " 119   0.101   0.179  -0.976  -5.981   0.610  -4.333\n",
              " \n",
              " [120 rows x 6 columns]}"
            ]
          },
          "execution_count": 30,
          "metadata": {},
          "output_type": "execute_result"
        }
      ],
      "source": [
        "bf_data"
      ]
    },
    {
      "cell_type": "code",
      "execution_count": 31,
      "metadata": {},
      "outputs": [
        {
          "data": {
            "text/plain": [
              "BarthDtw(conflict_resolution=True, find_matches_method='find_peaks', max_cost=2.5, max_match_length_s=3.0, max_signal_stretch_ms=None, max_template_stretch_ms=None, memory=None, min_match_length_s=0.6, resample_template=True, snap_to_min_axis='gyr_ml', snap_to_min_win_ms=300, template=BarthOriginalTemplate(scaling=FixedScaler(offset=0, scale=500.0), use_cols=None))"
            ]
          },
          "execution_count": 31,
          "metadata": {},
          "output_type": "execute_result"
        }
      ],
      "source": [
        "dtw"
      ]
    },
    {
      "cell_type": "markdown",
      "metadata": {},
      "source": [
        "## Event detection\n",
        "For each identified stride, we now identify important stride events.\n",
        "\n"
      ]
    },
    {
      "cell_type": "code",
      "execution_count": 33,
      "metadata": {
        "collapsed": false
      },
      "outputs": [
        {
          "ename": "ValueError",
          "evalue": "The chosen values are smaller than the sample time (100.0 ms)",
          "output_type": "error",
          "traceback": [
            "\u001b[1;31m---------------------------------------------------------------------------\u001b[0m",
            "\u001b[1;31mValueError\u001b[0m                                Traceback (most recent call last)",
            "Input \u001b[1;32mIn [33]\u001b[0m, in \u001b[0;36m<cell line: 4>\u001b[1;34m()\u001b[0m\n\u001b[0;32m      1\u001b[0m \u001b[38;5;28;01mfrom\u001b[39;00m \u001b[38;5;21;01mgaitmap\u001b[39;00m\u001b[38;5;21;01m.\u001b[39;00m\u001b[38;5;21;01mevent_detection\u001b[39;00m \u001b[38;5;28;01mimport\u001b[39;00m RamppEventDetection\n\u001b[0;32m      3\u001b[0m ed \u001b[38;5;241m=\u001b[39m RamppEventDetection()\n\u001b[1;32m----> 4\u001b[0m ed \u001b[38;5;241m=\u001b[39m \u001b[43med\u001b[49m\u001b[38;5;241;43m.\u001b[39;49m\u001b[43mdetect\u001b[49m\u001b[43m(\u001b[49m\u001b[43mdata\u001b[49m\u001b[38;5;241;43m=\u001b[39;49m\u001b[43mbf_data\u001b[49m\u001b[43m,\u001b[49m\u001b[43m \u001b[49m\u001b[43mstride_list\u001b[49m\u001b[38;5;241;43m=\u001b[39;49m\u001b[43mdtw\u001b[49m\u001b[38;5;241;43m.\u001b[39;49m\u001b[43mstride_list_\u001b[49m\u001b[43m,\u001b[49m\u001b[43m \u001b[49m\u001b[43msampling_rate_hz\u001b[49m\u001b[38;5;241;43m=\u001b[39;49m\u001b[43msampling_rate_hz\u001b[49m\u001b[43m)\u001b[49m\n",
            "File \u001b[1;32m~\\AppData\\Local\\Packages\\PythonSoftwareFoundation.Python.3.10_qbz5n2kfra8p0\\LocalCache\\local-packages\\Python310\\site-packages\\gaitmap\\_event_detection_common\\_event_detection_mixin.py:83\u001b[0m, in \u001b[0;36m_EventDetectionMixin.detect\u001b[1;34m(self, data, stride_list, sampling_rate_hz)\u001b[0m\n\u001b[0;32m     80\u001b[0m \u001b[38;5;28mself\u001b[39m\u001b[38;5;241m.\u001b[39msampling_rate_hz \u001b[38;5;241m=\u001b[39m sampling_rate_hz\n\u001b[0;32m     81\u001b[0m \u001b[38;5;28mself\u001b[39m\u001b[38;5;241m.\u001b[39mstride_list \u001b[38;5;241m=\u001b[39m stride_list\n\u001b[1;32m---> 83\u001b[0m detect_kwargs \u001b[38;5;241m=\u001b[39m \u001b[38;5;28;43mself\u001b[39;49m\u001b[38;5;241;43m.\u001b[39;49m\u001b[43m_get_detect_kwargs\u001b[49m\u001b[43m(\u001b[49m\u001b[43m)\u001b[49m\n\u001b[0;32m     85\u001b[0m \u001b[38;5;28;01mif\u001b[39;00m dataset_type \u001b[38;5;241m==\u001b[39m \u001b[38;5;124m\"\u001b[39m\u001b[38;5;124msingle\u001b[39m\u001b[38;5;124m\"\u001b[39m:\n\u001b[0;32m     86\u001b[0m     results \u001b[38;5;241m=\u001b[39m \u001b[38;5;28mself\u001b[39m\u001b[38;5;241m.\u001b[39m_detect_single_dataset(data, stride_list, detect_kwargs\u001b[38;5;241m=\u001b[39mdetect_kwargs, memory\u001b[38;5;241m=\u001b[39m\u001b[38;5;28mself\u001b[39m\u001b[38;5;241m.\u001b[39mmemory)\n",
            "File \u001b[1;32m~\\AppData\\Local\\Packages\\PythonSoftwareFoundation.Python.3.10_qbz5n2kfra8p0\\LocalCache\\local-packages\\Python310\\site-packages\\gaitmap_mad\\event_detection\\_rampp_event_detection.py:182\u001b[0m, in \u001b[0;36mRamppEventDetection._get_detect_kwargs\u001b[1;34m(self)\u001b[0m\n\u001b[0;32m    178\u001b[0m ic_search_region \u001b[38;5;241m=\u001b[39m cast(\n\u001b[0;32m    179\u001b[0m     \u001b[38;5;28mtuple\u001b[39m[\u001b[38;5;28mint\u001b[39m, \u001b[38;5;28mint\u001b[39m], \u001b[38;5;28mtuple\u001b[39m(\u001b[38;5;28mint\u001b[39m(v \u001b[38;5;241m/\u001b[39m \u001b[38;5;241m1000\u001b[39m \u001b[38;5;241m*\u001b[39m \u001b[38;5;28mself\u001b[39m\u001b[38;5;241m.\u001b[39msampling_rate_hz) \u001b[38;5;28;01mfor\u001b[39;00m v \u001b[38;5;129;01min\u001b[39;00m \u001b[38;5;28mself\u001b[39m\u001b[38;5;241m.\u001b[39mic_search_region_ms)\n\u001b[0;32m    180\u001b[0m )\n\u001b[0;32m    181\u001b[0m \u001b[38;5;28;01mif\u001b[39;00m \u001b[38;5;28mall\u001b[39m(v \u001b[38;5;241m==\u001b[39m \u001b[38;5;241m0\u001b[39m \u001b[38;5;28;01mfor\u001b[39;00m v \u001b[38;5;129;01min\u001b[39;00m ic_search_region):\n\u001b[1;32m--> 182\u001b[0m     \u001b[38;5;28;01mraise\u001b[39;00m \u001b[38;5;167;01mValueError\u001b[39;00m(\n\u001b[0;32m    183\u001b[0m         \u001b[38;5;124mf\u001b[39m\u001b[38;5;124m\"\u001b[39m\u001b[38;5;124mThe chosen values are smaller than the sample time (\u001b[39m\u001b[38;5;132;01m{\u001b[39;00m(\u001b[38;5;241m1\u001b[39m\u001b[38;5;250m \u001b[39m\u001b[38;5;241m/\u001b[39m\u001b[38;5;250m \u001b[39m\u001b[38;5;28mself\u001b[39m\u001b[38;5;241m.\u001b[39msampling_rate_hz)\u001b[38;5;250m \u001b[39m\u001b[38;5;241m*\u001b[39m\u001b[38;5;250m \u001b[39m\u001b[38;5;241m1000\u001b[39m\u001b[38;5;132;01m}\u001b[39;00m\u001b[38;5;124m ms)\u001b[39m\u001b[38;5;124m\"\u001b[39m\n\u001b[0;32m    184\u001b[0m     )\n\u001b[0;32m    185\u001b[0m min_vel_search_win_size \u001b[38;5;241m=\u001b[39m \u001b[38;5;28mint\u001b[39m(\u001b[38;5;28mself\u001b[39m\u001b[38;5;241m.\u001b[39mmin_vel_search_win_size_ms \u001b[38;5;241m/\u001b[39m \u001b[38;5;241m1000\u001b[39m \u001b[38;5;241m*\u001b[39m \u001b[38;5;28mself\u001b[39m\u001b[38;5;241m.\u001b[39msampling_rate_hz)\n\u001b[0;32m    186\u001b[0m \u001b[38;5;28;01mreturn\u001b[39;00m {\n\u001b[0;32m    187\u001b[0m     \u001b[38;5;124m\"\u001b[39m\u001b[38;5;124mic_search_region\u001b[39m\u001b[38;5;124m\"\u001b[39m: ic_search_region,\n\u001b[0;32m    188\u001b[0m     \u001b[38;5;124m\"\u001b[39m\u001b[38;5;124mmin_vel_search_win_size\u001b[39m\u001b[38;5;124m\"\u001b[39m: min_vel_search_win_size,\n\u001b[0;32m    189\u001b[0m     \u001b[38;5;124m\"\u001b[39m\u001b[38;5;124msampling_rate_hz\u001b[39m\u001b[38;5;124m\"\u001b[39m: \u001b[38;5;28mself\u001b[39m\u001b[38;5;241m.\u001b[39msampling_rate_hz,\n\u001b[0;32m    190\u001b[0m     \u001b[38;5;124m\"\u001b[39m\u001b[38;5;124mgyr_ic_lowpass_filter\u001b[39m\u001b[38;5;124m\"\u001b[39m: \u001b[38;5;28;01mNone\u001b[39;00m,\n\u001b[0;32m    191\u001b[0m }\n",
            "\u001b[1;31mValueError\u001b[0m: The chosen values are smaller than the sample time (100.0 ms)"
          ]
        }
      ],
      "source": [
        "from gaitmap.event_detection import RamppEventDetection\n",
        "\n",
        "ed = RamppEventDetection()\n",
        "ed = ed.detect(data=bf_data, stride_list=dtw.stride_list_, sampling_rate_hz=sampling_rate_hz)"
      ]
    },
    {
      "cell_type": "markdown",
      "metadata": {},
      "source": [
        "## Trajectory Reconstruction\n",
        "Using the identified events the trajectory of each stride is reconstructed using double integration starting from the\n",
        "`min_vel` event of each stride.\n",
        "\n"
      ]
    },
    {
      "cell_type": "code",
      "execution_count": null,
      "metadata": {
        "collapsed": false
      },
      "outputs": [],
      "source": [
        "from gaitmap.trajectory_reconstruction import StrideLevelTrajectory\n",
        "\n",
        "trajectory = StrideLevelTrajectory()\n",
        "trajectory = trajectory.estimate(\n",
        "    data=data, stride_event_list=ed.min_vel_event_list_, sampling_rate_hz=sampling_rate_hz\n",
        ")"
      ]
    },
    {
      "cell_type": "markdown",
      "metadata": {},
      "source": [
        "## Temporal Parameter Calculation\n",
        "Now we have all information to calculate relevant temporal parameters (like stride time)\n",
        "\n"
      ]
    },
    {
      "cell_type": "code",
      "execution_count": null,
      "metadata": {
        "collapsed": false
      },
      "outputs": [],
      "source": [
        "from gaitmap.parameters import TemporalParameterCalculation\n",
        "\n",
        "temporal_paras = TemporalParameterCalculation()\n",
        "temporal_paras = temporal_paras.calculate(stride_event_list=ed.min_vel_event_list_, sampling_rate_hz=sampling_rate_hz)"
      ]
    },
    {
      "cell_type": "markdown",
      "metadata": {},
      "source": [
        "## Spatial Parameter Calculation\n",
        "Like the temporal parameters, we can also calculate the spatial parameter.\n",
        "\n"
      ]
    },
    {
      "cell_type": "code",
      "execution_count": null,
      "metadata": {
        "collapsed": false
      },
      "outputs": [],
      "source": [
        "from gaitmap.parameters import SpatialParameterCalculation\n",
        "\n",
        "spatial_paras = SpatialParameterCalculation()\n",
        "spatial_paras = spatial_paras.calculate(\n",
        "    stride_event_list=ed.min_vel_event_list_,\n",
        "    positions=trajectory.position_,\n",
        "    orientations=trajectory.orientation_,\n",
        "    sampling_rate_hz=sampling_rate_hz,\n",
        ")"
      ]
    },
    {
      "cell_type": "markdown",
      "metadata": {},
      "source": [
        "## Inspecting the Results\n",
        "The class of each step allows you to inspect all results in detail.\n",
        "Here we will just print and plot the most important once.\n",
        "Note, that the plots below are for sure not the best way to represent results!\n",
        "\n"
      ]
    },
    {
      "cell_type": "code",
      "execution_count": null,
      "metadata": {
        "collapsed": false
      },
      "outputs": [
        {
          "name": "stdout",
          "output_type": "stream",
          "text": [
            "The following number of strides were identified and parameterized for each sensor: {'WT901BLE68(d8:09:5a:ca:b6:e0)': 0, 'WT901BLE68(cc:c4:7a:a1:fe:ea)': 0}\n"
          ]
        }
      ],
      "source": [
        "import matplotlib.pyplot as plt\n",
        "\n",
        "print(\n",
        "    f\"The following number of strides were identified and parameterized for each sensor: {({k: len(v) for k, v in ed.min_vel_event_list_.items()})}\"\n",
        ")"
      ]
    },
    {
      "cell_type": "code",
      "execution_count": null,
      "metadata": {
        "collapsed": false
      },
      "outputs": [
        {
          "ename": "TypeError",
          "evalue": "no numeric data to plot",
          "output_type": "error",
          "traceback": [
            "\u001b[1;31m---------------------------------------------------------------------------\u001b[0m",
            "\u001b[1;31mTypeError\u001b[0m                                 Traceback (most recent call last)",
            "Input \u001b[1;32mIn [27]\u001b[0m, in \u001b[0;36m<cell line: 1>\u001b[1;34m()\u001b[0m\n\u001b[0;32m      1\u001b[0m \u001b[38;5;28;01mfor\u001b[39;00m k, v \u001b[38;5;129;01min\u001b[39;00m temporal_paras\u001b[38;5;241m.\u001b[39mparameters_pretty_\u001b[38;5;241m.\u001b[39mitems():\n\u001b[1;32m----> 2\u001b[0m     \u001b[43mv\u001b[49m\u001b[38;5;241;43m.\u001b[39;49m\u001b[43mplot\u001b[49m\u001b[43m(\u001b[49m\u001b[43m)\u001b[49m\n\u001b[0;32m      3\u001b[0m     plt\u001b[38;5;241m.\u001b[39mtitle(\u001b[38;5;124mf\u001b[39m\u001b[38;5;124m\"\u001b[39m\u001b[38;5;124mAll temporal parameters of sensor \u001b[39m\u001b[38;5;132;01m{\u001b[39;00mk\u001b[38;5;132;01m}\u001b[39;00m\u001b[38;5;124m\"\u001b[39m)\n",
            "File \u001b[1;32m~\\AppData\\Local\\Packages\\PythonSoftwareFoundation.Python.3.10_qbz5n2kfra8p0\\LocalCache\\local-packages\\Python310\\site-packages\\pandas\\plotting\\_core.py:1031\u001b[0m, in \u001b[0;36mPlotAccessor.__call__\u001b[1;34m(self, *args, **kwargs)\u001b[0m\n\u001b[0;32m   1028\u001b[0m             label_name \u001b[38;5;241m=\u001b[39m label_kw \u001b[38;5;129;01mor\u001b[39;00m data\u001b[38;5;241m.\u001b[39mcolumns\n\u001b[0;32m   1029\u001b[0m             data\u001b[38;5;241m.\u001b[39mcolumns \u001b[38;5;241m=\u001b[39m label_name\n\u001b[1;32m-> 1031\u001b[0m \u001b[38;5;28;01mreturn\u001b[39;00m plot_backend\u001b[38;5;241m.\u001b[39mplot(data, kind\u001b[38;5;241m=\u001b[39mkind, \u001b[38;5;241m*\u001b[39m\u001b[38;5;241m*\u001b[39mkwargs)\n",
            "File \u001b[1;32m~\\AppData\\Local\\Packages\\PythonSoftwareFoundation.Python.3.10_qbz5n2kfra8p0\\LocalCache\\local-packages\\Python310\\site-packages\\pandas\\plotting\\_matplotlib\\__init__.py:71\u001b[0m, in \u001b[0;36mplot\u001b[1;34m(data, kind, **kwargs)\u001b[0m\n\u001b[0;32m     69\u001b[0m         kwargs[\u001b[38;5;124m\"\u001b[39m\u001b[38;5;124max\u001b[39m\u001b[38;5;124m\"\u001b[39m] \u001b[38;5;241m=\u001b[39m \u001b[38;5;28mgetattr\u001b[39m(ax, \u001b[38;5;124m\"\u001b[39m\u001b[38;5;124mleft_ax\u001b[39m\u001b[38;5;124m\"\u001b[39m, ax)\n\u001b[0;32m     70\u001b[0m plot_obj \u001b[38;5;241m=\u001b[39m PLOT_CLASSES[kind](data, \u001b[38;5;241m*\u001b[39m\u001b[38;5;241m*\u001b[39mkwargs)\n\u001b[1;32m---> 71\u001b[0m \u001b[43mplot_obj\u001b[49m\u001b[38;5;241;43m.\u001b[39;49m\u001b[43mgenerate\u001b[49m\u001b[43m(\u001b[49m\u001b[43m)\u001b[49m\n\u001b[0;32m     72\u001b[0m plot_obj\u001b[38;5;241m.\u001b[39mdraw()\n\u001b[0;32m     73\u001b[0m \u001b[38;5;28;01mreturn\u001b[39;00m plot_obj\u001b[38;5;241m.\u001b[39mresult\n",
            "File \u001b[1;32m~\\AppData\\Local\\Packages\\PythonSoftwareFoundation.Python.3.10_qbz5n2kfra8p0\\LocalCache\\local-packages\\Python310\\site-packages\\pandas\\plotting\\_matplotlib\\core.py:451\u001b[0m, in \u001b[0;36mMPLPlot.generate\u001b[1;34m(self)\u001b[0m\n\u001b[0;32m    449\u001b[0m \u001b[38;5;28;01mdef\u001b[39;00m \u001b[38;5;21mgenerate\u001b[39m(\u001b[38;5;28mself\u001b[39m) \u001b[38;5;241m-\u001b[39m\u001b[38;5;241m>\u001b[39m \u001b[38;5;28;01mNone\u001b[39;00m:\n\u001b[0;32m    450\u001b[0m     \u001b[38;5;28mself\u001b[39m\u001b[38;5;241m.\u001b[39m_args_adjust()\n\u001b[1;32m--> 451\u001b[0m     \u001b[38;5;28;43mself\u001b[39;49m\u001b[38;5;241;43m.\u001b[39;49m\u001b[43m_compute_plot_data\u001b[49m\u001b[43m(\u001b[49m\u001b[43m)\u001b[49m\n\u001b[0;32m    452\u001b[0m     \u001b[38;5;28mself\u001b[39m\u001b[38;5;241m.\u001b[39m_setup_subplots()\n\u001b[0;32m    453\u001b[0m     \u001b[38;5;28mself\u001b[39m\u001b[38;5;241m.\u001b[39m_make_plot()\n",
            "File \u001b[1;32m~\\AppData\\Local\\Packages\\PythonSoftwareFoundation.Python.3.10_qbz5n2kfra8p0\\LocalCache\\local-packages\\Python310\\site-packages\\pandas\\plotting\\_matplotlib\\core.py:636\u001b[0m, in \u001b[0;36mMPLPlot._compute_plot_data\u001b[1;34m(self)\u001b[0m\n\u001b[0;32m    634\u001b[0m \u001b[38;5;66;03m# no non-numeric frames or series allowed\u001b[39;00m\n\u001b[0;32m    635\u001b[0m \u001b[38;5;28;01mif\u001b[39;00m is_empty:\n\u001b[1;32m--> 636\u001b[0m     \u001b[38;5;28;01mraise\u001b[39;00m \u001b[38;5;167;01mTypeError\u001b[39;00m(\u001b[38;5;124m\"\u001b[39m\u001b[38;5;124mno numeric data to plot\u001b[39m\u001b[38;5;124m\"\u001b[39m)\n\u001b[0;32m    638\u001b[0m \u001b[38;5;28mself\u001b[39m\u001b[38;5;241m.\u001b[39mdata \u001b[38;5;241m=\u001b[39m numeric_data\u001b[38;5;241m.\u001b[39mapply(\u001b[38;5;28mself\u001b[39m\u001b[38;5;241m.\u001b[39m_convert_to_ndarray)\n",
            "\u001b[1;31mTypeError\u001b[0m: no numeric data to plot"
          ]
        }
      ],
      "source": [
        "for k, v in temporal_paras.parameters_pretty_.items():\n",
        "    v.plot()\n",
        "    plt.title(f\"All temporal parameters of sensor {k}\")"
      ]
    },
    {
      "cell_type": "code",
      "execution_count": null,
      "metadata": {
        "collapsed": false
      },
      "outputs": [],
      "source": [
        "for k, v in spatial_paras.parameters_pretty_.items():\n",
        "    v[[\"stride length [m]\", \"gait velocity [m/s]\", \"arc length [m]\"]].plot()\n",
        "    plt.title(f\"All spatial parameters of sensor {k}\")"
      ]
    },
    {
      "cell_type": "code",
      "execution_count": null,
      "metadata": {
        "collapsed": false
      },
      "outputs": [],
      "source": [
        "for k, v in spatial_paras.parameters_pretty_.items():\n",
        "    v.filter(like=\"angle\").plot()\n",
        "    plt.title(f\"All angle parameters of sensor {k}\")"
      ]
    }
  ],
  "metadata": {
    "kernelspec": {
      "display_name": "Python 3",
      "language": "python",
      "name": "python3"
    },
    "language_info": {
      "codemirror_mode": {
        "name": "ipython",
        "version": 3
      },
      "file_extension": ".py",
      "mimetype": "text/x-python",
      "name": "python",
      "nbconvert_exporter": "python",
      "pygments_lexer": "ipython3",
      "version": "3.10.11"
    }
  },
  "nbformat": 4,
  "nbformat_minor": 0
}
